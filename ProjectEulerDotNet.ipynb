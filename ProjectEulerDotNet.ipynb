{
  "nbformat": 4,
  "nbformat_minor": 0,
  "metadata": {
    "colab": {
      "provenance": [],
      "authorship_tag": "ABX9TyOeHH8+Q4f/wHQecqHmYX8a",
      "include_colab_link": true
    },
    "kernelspec": {
      "name": "python3",
      "display_name": "Python 3"
    },
    "language_info": {
      "name": "python"
    }
  },
  "cells": [
    {
      "cell_type": "markdown",
      "metadata": {
        "id": "view-in-github",
        "colab_type": "text"
      },
      "source": [
        "<a href=\"https://colab.research.google.com/github/lavanyapareek/Project-Euler-Solutions/blob/main/ProjectEulerDotNet.ipynb\" target=\"_parent\"><img src=\"https://colab.research.google.com/assets/colab-badge.svg\" alt=\"Open In Colab\"/></a>"
      ]
    },
    {
      "cell_type": "code",
      "execution_count": null,
      "metadata": {
        "colab": {
          "base_uri": "https://localhost:8080/"
        },
        "id": "B8VEvUNvbcoS",
        "outputId": "aca6cae9-f336-4d2b-f9c1-ec79a0f9e5b0"
      },
      "outputs": [
        {
          "output_type": "stream",
          "name": "stdout",
          "text": [
            "233168\n"
          ]
        }
      ],
      "source": [
        "#Problem 1\n",
        "sum = 0;\n",
        "for i in range(3, 1000):\n",
        "  if (i%3 == 0 or i%5 ==0):\n",
        "    sum += i\n",
        "print(sum)"
      ]
    },
    {
      "cell_type": "code",
      "source": [
        "#Problem 2\n"
      ],
      "metadata": {
        "id": "fWUQTAXabs0-"
      },
      "execution_count": null,
      "outputs": []
    }
  ]
}